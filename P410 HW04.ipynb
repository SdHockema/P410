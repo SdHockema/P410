{
 "cells": [
  {
   "cell_type": "code",
   "execution_count": 1,
   "metadata": {},
   "outputs": [],
   "source": [
    "%matplotlib inline\n",
    "\n",
    "import math\n",
    "import time\n",
    "import random #uses the MersenneTwister by default\n",
    "import numpy as np\n",
    "import pandas as pd\n",
    "import matplotlib.pyplot as plt\n",
    "import seaborn as sns\n",
    "from scipy import integrate\n",
    "from scipy import special\n",
    "\n",
    "sns.set(style=\"darkgrid\")"
   ]
  },
  {
   "cell_type": "markdown",
   "metadata": {},
   "source": [
    "# Homework 4\n",
    "## Problem 1\n",
    "\n",
    "A d-dimensional hypersphere is defined by the condition:\n",
    "$$x_{o}^2 + x_{1}^2 + \\ldots + x_{d-1}^2 \\leq R^2$$\n",
    "Its volume can be calculated analytically using the formula:\n",
    "$$V_d (R) = \\frac{\\pi^{d/2} R^d}{\\Gamma(\\frac{d}{2} + 1)}$$\n",
    "\n",
    "Write a program to determine the volume of unit hypershperes (R = 1) using a MonteCarlo integration method, for d = 2,3,4,5,6. You can use either the Hit-or-Miss or the Sample Mean method.\n",
    "\n",
    "Produce the following using a \"good\" PRNG, like D1(A1r) or the Mersenne Twister (which one did you use?):"
   ]
  },
  {
   "cell_type": "code",
   "execution_count": 2,
   "metadata": {},
   "outputs": [],
   "source": [
    "def lcg(a, c, m, x):\n",
    "    return (a * x + c) % m\n",
    "\n",
    "def lcgPeriod(a, c, m, seed):\n",
    "    x = seed\n",
    "    results = []\n",
    "    while (len(results) != m) and (not x in results):\n",
    "        results.append(x)\n",
    "        x = lcg(a, c, m, x)\n",
    "    print(\" The period of an LCG with:\\n a = {}, c = {}, m = {}, seed = {}\\n is {}\".format(a, c, m, seed, len(results)))\n",
    "\n",
    "def D1_A1r(seed):\n",
    "    return lcg(2685821657736338717, 0, 18446744073709551616, seed)"
   ]
  },
  {
   "cell_type": "code",
   "execution_count": 19,
   "metadata": {},
   "outputs": [],
   "source": [
    "def analyticalVolume(d, R):\n",
    "    return (((math.pi**(d / 2.0)) * (R**d)) / (special.gamma((d / 2.0) + 1)))\n",
    "\n",
    "aVolume2 = analyticalVolume(2, 1)\n",
    "aVolume3 = analyticalVolume(3, 1)\n",
    "aVolume4 = analyticalVolume(4, 1)\n",
    "aVolume5 = analyticalVolume(5, 1)\n",
    "aVolume6 = analyticalVolume(6, 1)\n",
    "\n",
    "d_2 = lambda x: np.sqrt(1 - x**2)\n",
    "d_3 = lambda x, y: np.sqrt(1 - x**2 - y**2)\n",
    "d_4 = lambda x, y, z: np.sqrt(1 - x**2 - y**2 - z**2)\n",
    "d_5 = lambda x, y, z, i: np.sqrt(1 - x**2 - y**2 - z**2 - i**2)\n",
    "d_6 = lambda x, y, z, i, j: np.sqrt(1 - x**2 - y**2 - z**2 - i**2 - j**2)"
   ]
  },
  {
   "cell_type": "code",
   "execution_count": 25,
   "metadata": {},
   "outputs": [
    {
     "name": "stdout",
     "output_type": "stream",
     "text": [
      " x1 is -1,\n",
      " x2 is 1,\n",
      " y1 is 0,\n",
      " y2 is 1.9999994989983725\n",
      "The result is 1.5835596033169315, with an error of 3.141592653589793\n"
     ]
    }
   ],
   "source": [
    "def mc_Integrate(a, b, func, n = 100000):\n",
    "    interval = np.linspace(a, b, 1000)\n",
    "    y1 = 0\n",
    "    y2 = max(func(interval)) + 1\n",
    "    area = (b - a) * (y2 - y1)\n",
    "    print(\" x1 is {},\\n x2 is {},\\n y1 is {},\\n y2 is {}\".format(a, b, y1, y2))\n",
    "    check = []\n",
    "    xs = []\n",
    "    ys = []\n",
    "    for i in range(n):\n",
    "        x = np.random.uniform(a, b, 1)\n",
    "        xs.append(x)\n",
    "        y = np.random.uniform(y1, y2, 1)\n",
    "        ys.append(y)\n",
    "        if abs(y) > abs(func(x)) or y < 0:\n",
    "            check.append(0)\n",
    "        else:\n",
    "            check.append(1)\n",
    "    return(np.mean(check) * area, xs, ys, check)\n",
    "a = mc_Integrate(-1, 1, d_2)[0]\n",
    "print(\"The result is {}, with an error of {}\".format(a, abs(aVolume2)))"
   ]
  },
  {
   "cell_type": "markdown",
   "metadata": {},
   "source": [
    "### a)\n",
    "Plots of the accuracy of your numerical results (with error bars) vs.  the number of points (N) generated."
   ]
  },
  {
   "cell_type": "markdown",
   "metadata": {},
   "source": [
    "### b)\n",
    "What is the (approximate) accuracy vs N behavior of your results. Does this follow the expected N^(−1/2) behavior?"
   ]
  },
  {
   "cell_type": "markdown",
   "metadata": {},
   "source": [
    "### c)\n",
    "Compare the results you obtain with your good PRNG with a PRNG that has obvious problems, like LCG(5,3,32).  Describe how the \"bad\" PRNG’s results differ from your \"good\" results."
   ]
  },
  {
   "cell_type": "code",
   "execution_count": 5,
   "metadata": {},
   "outputs": [
    {
     "name": "stdout",
     "output_type": "stream",
     "text": [
      " The period of an LCG with:\n",
      " a = 5, c = 3, m = 32, seed = 1\n",
      " is 32\n"
     ]
    }
   ],
   "source": [
    "def bad_LCG(seed):\n",
    "    return lcg(5, 3, 32, seed)\n",
    "lcgPeriod(5, 3, 32, 1)\n",
    "\n",
    "def RANDU(seed):\n",
    "    return lcg(65539, 0, 2**31, seed)"
   ]
  },
  {
   "cell_type": "markdown",
   "metadata": {},
   "source": [
    "## Problem 2\n",
    "Evaluate the integral:\n",
    "$$\\int_{0}^{1} f(x)dx = \\int_{0}^{1} \\sqrt{1-x^2} dx = \\frac{\\pi}{4}$$\n",
    "using importance sampling with\n",
    "$$p(x) = A(1-x)$$ $$[x \\geq 0]$$\n",
    "and a ”good” PRNG, like D1(A1r) or the Mersenne Twister."
   ]
  },
  {
   "cell_type": "markdown",
   "metadata": {},
   "source": [
    "### a)\n",
    "What is the appropriate value of A?"
   ]
  },
  {
   "cell_type": "markdown",
   "metadata": {},
   "source": [
    "### b) \n",
    "What transformation can be used to allow us to generate random numbers x according to the PDF, p(x), in x ∈ [0,1] from uniformly distributed random numbers, r in [0,1]?"
   ]
  },
  {
   "cell_type": "markdown",
   "metadata": {},
   "source": [
    "### c)\n",
    "Make a plot of the deviation of your numerical result (including statistical uncertainties) from the analytic result vs. the number of points you generate, N , for N in the range 10^2 − 10^9."
   ]
  },
  {
   "cell_type": "markdown",
   "metadata": {},
   "source": [
    "### d)\n",
    "What is the variance of f(x)/p(x) in the interval [0,1]? Compare this withthe variance of f(x) over the same interval."
   ]
  },
  {
   "cell_type": "code",
   "execution_count": null,
   "metadata": {},
   "outputs": [],
   "source": []
  }
 ],
 "metadata": {
  "kernelspec": {
   "display_name": "Python 3",
   "language": "python",
   "name": "python3"
  },
  "language_info": {
   "codemirror_mode": {
    "name": "ipython",
    "version": 3
   },
   "file_extension": ".py",
   "mimetype": "text/x-python",
   "name": "python",
   "nbconvert_exporter": "python",
   "pygments_lexer": "ipython3",
   "version": "3.6.5"
  }
 },
 "nbformat": 4,
 "nbformat_minor": 2
}
