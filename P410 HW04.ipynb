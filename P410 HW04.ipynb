{
 "cells": [
  {
   "cell_type": "code",
   "execution_count": 1,
   "metadata": {},
   "outputs": [],
   "source": [
    "%matplotlib inline\n",
    "\n",
    "import math\n",
    "import time\n",
    "import random #uses the MersenneTwister by default\n",
    "import numpy as np\n",
    "import pandas as pd\n",
    "import matplotlib.pyplot as plt\n",
    "import seaborn as sns\n",
    "from scipy import integrate\n",
    "from scipy import special\n",
    "\n",
    "sns.set(style=\"darkgrid\")"
   ]
  },
  {
   "cell_type": "markdown",
   "metadata": {},
   "source": [
    "# Homework 4\n",
    "## Problem 1\n",
    "\n",
    "A d-dimensional hypersphere is defined by the condition:\n",
    "$$x_{o}^2 + x_{1}^2 + \\ldots + x_{d-1}^2 \\leq R^2$$\n",
    "Its volume can be calculated analytically using the formula:\n",
    "$$V_d (R) = \\frac{\\pi^{d/2} R^d}{\\Gamma(\\frac{d}{2} + 1)}$$\n",
    "\n",
    "Write a program to determine the volume of unit hyperspheres (R = 1) using a MonteCarlo integration method, for d = 2,3,4,5,6. You can use either the Hit-or-Miss or the Sample Mean method.\n",
    "\n",
    "Produce the following using a \"good\" PRNG, like D1(A1r) or the Mersenne Twister (which one did you use?):"
   ]
  },
  {
   "cell_type": "code",
   "execution_count": 2,
   "metadata": {},
   "outputs": [],
   "source": [
    "def lcg(a, c, m, x):\n",
    "    while True:\n",
    "        x = (a * x + c) % m\n",
    "        yield x\n",
    "\n",
    "def D1_A1r(seed):\n",
    "    return lcg(2685821657736338717, 0, 18446744073709551616, seed) #2^64 = 18446744073709551616"
   ]
  },
  {
   "cell_type": "code",
   "execution_count": 3,
   "metadata": {},
   "outputs": [],
   "source": [
    "def analyticalVolume(d, R):\n",
    "    return (((math.pi**(d / 2.0)) * (R**d)) / (special.gamma((d / 2.0) + 1)))\n",
    "\n",
    "aVolume2 = analyticalVolume(2, 1)\n",
    "aVolume3 = analyticalVolume(3, 1)\n",
    "aVolume4 = analyticalVolume(4, 1)\n",
    "aVolume5 = analyticalVolume(5, 1)\n",
    "aVolume6 = analyticalVolume(6, 1)"
   ]
  },
  {
   "cell_type": "code",
   "execution_count": 11,
   "metadata": {},
   "outputs": [
    {
     "name": "stdout",
     "output_type": "stream",
     "text": [
      "3.13436\n"
     ]
    }
   ],
   "source": [
    "def mc_Integrate(d = 3, n = 100000, prng = np.random.uniform):\n",
    "    '''\n",
    "     Aproximate integral of a unit hypersphere of dimension d using hit-or-miss Monte Carlo method. \n",
    "     @param d: dimension of the hypersphere\n",
    "     @param n: number of points to sample\n",
    "     @param prng: pseudo-random number generator to use\n",
    "     @return aproximate value of the integral, and the error\n",
    "    '''\n",
    "    a = [-1]*d\n",
    "    b = [1]*d\n",
    "    inside = 0\n",
    "    for i in range(n):\n",
    "        x = prng(a, b, d)\n",
    "        if 1 > np.linalg.norm(x):\n",
    "            inside += 1\n",
    "    return (float(inside) / n) * np.prod(np.array(b) - np.array(a))"
   ]
  },
  {
   "cell_type": "markdown",
   "metadata": {},
   "source": [
    "### a)\n",
    "Plots of the accuracy of your numerical results (with error bars) vs.  the number of points (N) generated."
   ]
  },
  {
   "cell_type": "code",
   "execution_count": null,
   "metadata": {},
   "outputs": [],
   "source": [
    "nRange = np.linspace(1000, 100000, 100, dtype = int).tolist()  \n",
    "\n",
    "for d in (2, 3, 4, 5, 6):\n",
    "    v = []\n",
    "    for n in nRange:\n",
    "        v.append(mc_Integrate(d, n))\n",
    "    plt.semilogx(np.linspace(1000, 100000, 100), v)\n",
    "    plt.title(\"{}D Hypersphere\".format(d))\n",
    "    plt.axhline(y=analyticalVolume(d, 1), color='g', linestyle='--')\n",
    "    plt.xlabel(\"N points\")\n",
    "    plt.ylabel(\"Volume\")\n",
    "    plt.show()"
   ]
  },
  {
   "cell_type": "markdown",
   "metadata": {},
   "source": [
    "### b)\n",
    "What is the (approximate) accuracy vs N behavior of your results. Does this follow the expected N^(−1/2) behavior?"
   ]
  },
  {
   "cell_type": "markdown",
   "metadata": {},
   "source": [
    "### c)\n",
    "Compare the results you obtain with your good PRNG with a PRNG that has obvious problems, like LCG(5,3,32).  Describe how the \"bad\" PRNG’s results differ from your \"good\" results."
   ]
  },
  {
   "cell_type": "code",
   "execution_count": null,
   "metadata": {},
   "outputs": [],
   "source": [
    "def bad_LCG(seed):\n",
    "    return lcg(5, 3, 32, seed)\n",
    "\n",
    "def bad_rand(Min, Max, d):\n",
    "    r = []\n",
    "    for i in range(d):\n",
    "        r.append(bad_LCG(1)) #TODO\n",
    "    return r\n",
    "\n",
    "def RANDU(seed):\n",
    "    return lcg(65539, 0, 2**31, seed)"
   ]
  },
  {
   "cell_type": "markdown",
   "metadata": {},
   "source": [
    "## Problem 2\n",
    "Evaluate the integral:\n",
    "$$\\int_{0}^{1} f(x)dx = \\int_{0}^{1} \\sqrt{1-x^2} dx = \\frac{\\pi}{4}$$\n",
    "using importance sampling with\n",
    "$$p(x) = A(1-x)$$ $$[x \\geq 0]$$\n",
    "and a ”good” PRNG, like D1(A1r) or the Mersenne Twister."
   ]
  },
  {
   "cell_type": "markdown",
   "metadata": {},
   "source": [
    "### a)\n",
    "What is the appropriate value of A?"
   ]
  },
  {
   "cell_type": "markdown",
   "metadata": {},
   "source": [
    "### b) \n",
    "What transformation can be used to allow us to generate random numbers x according to the PDF, p(x), in x ∈ [0,1] from uniformly distributed random numbers, r in [0,1]?"
   ]
  },
  {
   "cell_type": "markdown",
   "metadata": {},
   "source": [
    "### c)\n",
    "Make a plot of the deviation of your numerical result (including statistical uncertainties) from the analytic result vs. the number of points you generate, N , for N in the range 10^2 − 10^9."
   ]
  },
  {
   "cell_type": "markdown",
   "metadata": {},
   "source": [
    "### d)\n",
    "What is the variance of f(x)/p(x) in the interval [0,1]? Compare this withthe variance of f(x) over the same interval."
   ]
  },
  {
   "cell_type": "code",
   "execution_count": null,
   "metadata": {},
   "outputs": [],
   "source": []
  }
 ],
 "metadata": {
  "kernelspec": {
   "display_name": "Python 3",
   "language": "python",
   "name": "python3"
  },
  "language_info": {
   "codemirror_mode": {
    "name": "ipython",
    "version": 3
   },
   "file_extension": ".py",
   "mimetype": "text/x-python",
   "name": "python",
   "nbconvert_exporter": "python",
   "pygments_lexer": "ipython3",
   "version": "3.6.5"
  }
 },
 "nbformat": 4,
 "nbformat_minor": 2
}
