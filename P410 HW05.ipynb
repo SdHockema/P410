{
 "cells": [
  {
   "cell_type": "code",
   "execution_count": 1,
   "metadata": {},
   "outputs": [],
   "source": [
    "%matplotlib inline\n",
    "\n",
    "import numpy as np\n",
    "from scipy import stats\n",
    "import matplotlib.pyplot as plt\n",
    "import math\n",
    "import random\n",
    "import seaborn as sns\n",
    "\n",
    "sns.set(style=\"darkgrid\")"
   ]
  },
  {
   "cell_type": "markdown",
   "metadata": {},
   "source": [
    "## Problem 1"
   ]
  },
  {
   "cell_type": "markdown",
   "metadata": {},
   "source": [
    "In this problem we will explore the effects of correlations between data points on weighted averaging. Let’s assume we have four measurements of the cross-section for the production of top quarks at the Fermilab Tevatron collider in four different decay channels, each involving a single electron or a muon and 3 or 4 jets. (Don’t worry if this is all gibberish to you - the important thing is that we have four measurements, supposedly of the same true quantity.)\n",
    "\n",
    "$$p\\overline{p}X \\rightarrow \\frac{e}{\\mu}+ \\frac{3}{4} \\text{ jets}$$\n",
    "\n",
    "For each measurement, there are four potential sources of uncertainty, as shown below:\n",
    "\n",
    "| Channel       | Measured| Stat  | e-ID  | μ-ID  | Lumi |\n",
    "|---------------|---------|-------|-------|-------|------|\n",
    "| e + 3-jets    | 7.91    | 0.99  | 0.24  |   -   | 0.59 |\n",
    "| e + 4-jets    | 6.82    | 0.76  | 0.18  |   -   | 0.45 |\n",
    "| μ + 3-jets    | 7.69    | 1.06  |   -   | 0.40  | 0.63 |\n",
    "| μ + 4-jets    | 9.00    | 0.98  |   -   | 0.37  | 0.59 |\n",
    "\n",
    "where\n",
    "\n",
    "**Meas**: the measured cross-section in pico-barns\n",
    "\n",
    "**Stat**: the statistical and other uncorrelated errors on the measurement\n",
    "* uncorrelated for all measurements\n",
    "\n",
    "**e/μ-ID**: the  uncertainty  due  to  estimating  the  efficiency  for  identifying  electrons  (e)  or muons (μ)\n",
    "* the e-ID uncertainties are +100% correlated between the e +n-jets channels\n",
    "* the μ-ID uncertainties are +100% correlated between the μ +n-jets channels\n",
    "\n",
    "**Lumi**: the uncertainty due to estimating the luminosity used in the measurement\n",
    "* +100% correlated for all measurements  \n",
    "    \n",
    "Your job is to write code to calculate the weighted average of these measurements, taking into account the correlations. Use this code to answer the following questions."
   ]
  },
  {
   "cell_type": "code",
   "execution_count": 2,
   "metadata": {},
   "outputs": [],
   "source": [
    "measurements = np.array([ 7.91, 6.82, 7.69, 9.00 ])\n",
    "errors = np.array([[0.99, 0.24, 0, 0.59], \n",
    "                   [0.76, 0.18, 0, 0.45], \n",
    "                   [1.06, 0, 0.40, 0.63], \n",
    "                   [0.98, 0, 0.37, 0.59]])"
   ]
  },
  {
   "cell_type": "markdown",
   "metadata": {},
   "source": [
    "### a) \n",
    "What is the weighted average and uncertainty of the measurements if correlations are ignored?"
   ]
  },
  {
   "cell_type": "code",
   "execution_count": 3,
   "metadata": {},
   "outputs": [
    {
     "name": "stdout",
     "output_type": "stream",
     "text": [
      " The weighted average is 7.662757723701624,\n",
      " with an error of 0.8723390155914105,\n",
      " a Chi squared of 0.8613594253340597,\n",
      " and 3 degrees of freedom.\n"
     ]
    }
   ],
   "source": [
    "def pyWgtAve(data, sigma):\n",
    "    '''\n",
    "     pyWgtAve: Uncorrelated measurements version\n",
    "        <X>     = [Sum X_i / sigma_i^2] err^2\n",
    "        1/err^2 = Sum 1/sigma_i^2\n",
    "     Derived from cpWgtAve() in cpStatistics.cpp given by H. Evans.\n",
    "    '''\n",
    "    N = len(data)  \n",
    "    assert(len(sigma) == N)  # both data & sigma should have the same dimension\n",
    "\n",
    "    ## # of Degrees of Freedom = N_meas - 1\n",
    "    ## one d.o.f. is used to create average from data points themselves\n",
    "    Ndof = N - 1\n",
    "\n",
    "    ## Accumulate sums for <X> and sigma\n",
    "    Xave = 0.0\n",
    "    err = 0.0\n",
    "    for i in range(N):\n",
    "        den = sigma[i] * sigma[i]\n",
    "        Xave += data[i] / den      # X_i / sigma_i^2\n",
    "        err  += 1.0 / den          # 1 / sigma_i^2\n",
    "    Xave = Xave / err              # average gets weigthed by Sum (1/sigma_i^2)\n",
    "    err = math.sqrt(1.0 / err)     # error\n",
    "\n",
    "    ## Now calculate the chi^2 between data and average\n",
    "    chi2 = 0.0\n",
    "    for i in range(N):\n",
    "        chi2 += (data[i] - Xave) * (data[i] - Xave) / (sigma[i] * sigma[i])\n",
    "\n",
    "    return (Xave, err, chi2, Ndof)\n",
    "\n",
    "Xave, err, chi2, Ndof = pyWgtAve(measurements, sum(np.transpose(errors)))\n",
    "\n",
    "print(\" The weighted average is {},\\n with an error of {},\\n a Chi squared of {},\\n and {} degrees of freedom.\".format(Xave, err, chi2, Ndof))"
   ]
  },
  {
   "cell_type": "markdown",
   "metadata": {},
   "source": [
    "### b)\n",
    "What is the covariance matrix for the measurements including the correlations described above?"
   ]
  },
  {
   "cell_type": "markdown",
   "metadata": {},
   "source": [
    "Stat Covariance matrix\n",
    "$$\\begin{pmatrix} \n",
    "\\sigma_{S1}^2 & 0 & 0 & 0\\\\\n",
    "0 & \\sigma_{S2}^2 & 0 & 0\\\\\n",
    "0 & 0 & \\sigma_{S3}^2 & 0\\\\\n",
    "0 & 0 & 0 & \\sigma_{S4}^2\\\\\n",
    "\\end{pmatrix} = V_{Stat}\n",
    "$$\n",
    "\n",
    "Electron-ID Covariance matrix\n",
    "$$\\begin{pmatrix} \n",
    "\\sigma_{e3}^2 & P_{34}\\sigma_{e3}\\sigma_{e4} & 0 & 0\\\\\n",
    "P_{34}\\sigma_{e3}\\sigma_{e4} & \\sigma_{e4}^2 & 0 & 0\\\\\n",
    "0 & 0 & 0 & 0\\\\\n",
    "0 & 0 & 0 & 0\\\\\n",
    "\\end{pmatrix} = V_{e-ID}\n",
    "$$\n",
    "\n",
    "Muon-ID Covariance matrix\n",
    "$$\\begin{pmatrix} \n",
    "0 & 0 & 0 & 0\\\\\n",
    "0 & 0 & 0 & 0\\\\\n",
    "0 & 0 & \\sigma_{\\mu3}^2 &  P_{34}\\sigma_{\\mu3}\\sigma_{\\mu4}\\\\\n",
    "0 & 0 & P_{34}\\sigma_{\\mu3}\\sigma_{\\mu4} & \\sigma_{\\mu4}^2\\\\\n",
    "\\end{pmatrix} = V_{\\mu-ID}\n",
    "$$\n",
    "\n",
    "Lumi Covariance matrix\n",
    "$$\\begin{pmatrix} \n",
    "\\sigma_{1}^2 & P_{12}\\sigma_{1}\\sigma_{2} & P_{13}\\sigma_{1}\\sigma_{3} & P_{14}\\sigma_{1}\\sigma_{4}\\\\\n",
    "P_{12}\\sigma_{1}\\sigma_{2} & \\sigma_{2}^2 & P_{23}\\sigma_{2}\\sigma_{3} & P_{24}\\sigma_{2}\\sigma_{4}\\\\\n",
    "P_{13}\\sigma_{1}\\sigma_{3} & P_{23}\\sigma_{2}\\sigma_{3} & \\sigma_{3}^2 & P_{34}\\sigma_{3}\\sigma_{4}\\\\\n",
    "P_{14}\\sigma_{1}\\sigma_{4} & P_{24}\\sigma_{2}\\sigma_{4} & P_{34}\\sigma_{3}\\sigma_{4} & \\sigma_{4}^2\\\\\n",
    "\\end{pmatrix} = V_{Lumi}\n",
    "$$\n",
    "\n",
    "$$ V= V_{stat} + V_{e-ID} + V_{\\mu-ID} + V_{Lumi}$$"
   ]
  },
  {
   "cell_type": "code",
   "execution_count": 4,
   "metadata": {},
   "outputs": [
    {
     "name": "stdout",
     "output_type": "stream",
     "text": [
      "[[1.3858 0.3087 0.3717 0.3481]\n",
      " [0.3087 0.8125 0.2835 0.2655]\n",
      " [0.3717 0.2835 1.6805 0.5197]\n",
      " [0.3481 0.2655 0.5197 1.4454]]\n"
     ]
    }
   ],
   "source": [
    "# P is 1 because the errors are 100% correlated\n",
    "\n",
    "V_stat = np.array([[0.99 * 0.99, 0, 0, 0],\n",
    "                   [0, 0.76 * 0.76, 0, 0], \n",
    "                   [0, 0, 1.06 * 1.06, 0], \n",
    "                   [0, 0, 0, 0.98 * 0.98]])\n",
    "\n",
    "V_eID = np.array([[0.24 * 0.24, 0.24 * 0.18, 0, 0], \n",
    "                  [0.24 * 0.18, 0.18 * 0.18, 0, 0],\n",
    "                  [          0,           0, 0, 0],\n",
    "                  [          0,           0, 0, 0]])\n",
    "\n",
    "V_μID = np.array([[0, 0,           0,           0],\n",
    "                  [0, 0,           0,           0],\n",
    "                  [0, 0, 0.40 * 0.40, 0.40 * 0.37],\n",
    "                  [0, 0, 0.40 * 0.37, 0.37 * 0.37]])\n",
    "\n",
    "V_lumi = np.array([[0.59 * 0.59, 0.59 * 0.45, 0.59 * 0.63, 0.59 * 0.59],\n",
    "                   [0.59 * 0.45, 0.45 * 0.45, 0.45 * 0.63, 0.45 * 0.59],\n",
    "                   [0.59 * 0.63, 0.45 * 0.63, 0.63 * 0.63, 0.63 * 0.59], \n",
    "                   [0.59 * 0.59, 0.45 * 0.59, 0.63 * 0.59, 0.59 * 0.59]])\n",
    "\n",
    "V = V_stat + V_eID + V_μID + V_lumi\n",
    "\n",
    "print(V)"
   ]
  },
  {
   "cell_type": "markdown",
   "metadata": {},
   "source": [
    "### c)\n",
    "Using that covariance matrix, calculate the weighted average and uncertainty of the measurements taking correlations properly into account."
   ]
  },
  {
   "cell_type": "code",
   "execution_count": 5,
   "metadata": {},
   "outputs": [
    {
     "name": "stdout",
     "output_type": "stream",
     "text": [
      " The weighted average is 7.563293506958378,\n",
      " with an error of 0.7332499405279995,\n",
      " a Chi squared of 2.8676106382803557,\n",
      " and 3 degrees of freedom.\n"
     ]
    }
   ],
   "source": [
    "def pyWgtAveCov(data, cov):\n",
    "    N = len(data)  \n",
    "    invcov = np.linalg.inv(cov)\n",
    "\n",
    "    ## # of Degrees of Freedom = N_meas - 1\n",
    "    ## one d.o.f. is used to create average from data points themselves\n",
    "    Ndof = N - 1\n",
    "\n",
    "    ## Accumulate sums for <X> and sigma\n",
    "    Xave = 0.0       \n",
    "    err = 0.0\n",
    "    for i in range(N):\n",
    "        for j in range(N):\n",
    "            Xave += invcov[i][j] * (data[i] + data[j])  \n",
    "            err += invcov[i][j]          \n",
    "    Xave = Xave / (2.0 * err)      \n",
    "    err = math.sqrt(1.0 / err)\n",
    "                 \n",
    "    chi2 = 0.0\n",
    "    for i in range(N):\n",
    "        for j in range(N):\n",
    "            chi2 += (data[i] - Xave) * invcov[i][j] * (data[j] - Xave)\n",
    "\n",
    "    return (Xave, err, chi2, Ndof)\n",
    "\n",
    "Xave_2, err_2, chi2_2, Ndof_2 = pyWgtAveCov(measurements, V)\n",
    "\n",
    "print(\" The weighted average is {},\\n with an error of {},\\n a Chi squared of {},\\n and {} degrees of freedom.\".format(Xave_2, err_2, chi2_2, Ndof_2))"
   ]
  },
  {
   "cell_type": "markdown",
   "metadata": {},
   "source": [
    "### d)\n",
    "What is the χ2 and χ2 probability for uncorrelated and correlated averages? Are these results likely to be consistent?"
   ]
  },
  {
   "cell_type": "code",
   "execution_count": null,
   "metadata": {},
   "outputs": [],
   "source": []
  },
  {
   "cell_type": "markdown",
   "metadata": {},
   "source": [
    "## Problem 2"
   ]
  },
  {
   "cell_type": "markdown",
   "metadata": {},
   "source": [
    "In this problem we will explore the effects of non-Gaussian errors on the relationship between confidence regions and the fit covariance matrix. Use the example we did in class of data drawn from a linear model with:\n",
    "\n",
    "$$ x \\in [0,1]$$\n",
    "$$f(x) = ax+b \\text{  (measurements, y, drawn from this model)}$$\n",
    "$$a = 1$$\n",
    "$$b=0.5$$\n",
    "$$N=10 \\text{ measurments / experiment}$$\n",
    "$$M=101 \\text{  experiments}$$\n",
    "\n",
    "But, for this problem, assume that the measurements, yi, take values that are uniformly (rather than normally) distributed about their true values, f(x) =a+bx. Use:\n",
    "\n",
    "$$ y_i -f(x_i)\\in[-0.15, +0.15] \\text{  (uniformly)}$$\n",
    "\n",
    "Please do the following:"
   ]
  },
  {
   "cell_type": "markdown",
   "metadata": {},
   "source": [
    "### a)\n",
    "Simulate one experiment using the parameters above (with yi drawn uniformly from the region[−0.15,+0.15]about the true value f(xi).  Make a plot of yi vs xi, including errors on yi from the standard deviation of a uniform distribution(width/√12)."
   ]
  },
  {
   "cell_type": "code",
   "execution_count": 6,
   "metadata": {},
   "outputs": [],
   "source": [
    "def experiment(min_dy, max_dy, N = 10):\n",
    "    '''\n",
    "     @param min_dy: minimum delta to apply to generated y value\n",
    "     @param max_dy: maximum delta to apply to generated y value\n",
    "     @param N:  measurements per experiment (defaults to 10)\n",
    "    '''\n",
    "    x = []\n",
    "    y = []\n",
    "    fx = []\n",
    "    err = []\n",
    "    for i in range(N):\n",
    "        xi = random.random()\n",
    "        fxi = 1.0 + .5 * xi\n",
    "        yi = fxi + ((random.random() * (max_dy - min_dy)) + min_dy)\n",
    "        erri = yi - fxi\n",
    "        x.append(xi)\n",
    "        fx.append(fxi)\n",
    "        y.append(yi)\n",
    "        err.append(erri)\n",
    "    return (x, y, fx, err)\n",
    "\n",
    "min_dy = -.15\n",
    "max_dy = .15\n",
    "sd = (max_dy - min_dy) / math.sqrt(12.0)"
   ]
  },
  {
   "cell_type": "code",
   "execution_count": 7,
   "metadata": {},
   "outputs": [
    {
     "data": {
      "image/png": "[encoded data removed]",
      "text/plain": [
       "<Figure size 432x288 with 1 Axes>"
      ]
     },
     "metadata": {},
     "output_type": "display_data"
    }
   ],
   "source": [
    "x, y, fx, err = experiment(min_dy, max_dy)\n",
    "plt.plot(x, fx, 'g-', label='Model')\n",
    "plt.errorbar(x, y, yerr=sd, fmt='ro', label='Measurments with errors')\n",
    "plt.show()"
   ]
  },
  {
   "cell_type": "markdown",
   "metadata": {},
   "source": [
    "### b)\n",
    "Now perform a χ2 fit to the data that you produced in part a.  Simultaneously extract best-fit values for a, b, and their covariance matrix.  In your χ2, use errors on the yi’s as in part a. (0.3/√12) as is often assumed in these situations. What are the paramter values and covariance matrix that your fit returns and what is the χ2 and probability of the fit?  Do your fit results agree with the values input to your simulation?"
   ]
  },
  {
   "cell_type": "code",
   "execution_count": 8,
   "metadata": {},
   "outputs": [],
   "source": [
    "def pyChi2(meas, pred, sig, Nconstr):\n",
    "    ''' Based on cpChi2() (least squares version) in cpStatistics.cpp given by H. Evans. '''\n",
    "    ## number of bins and initial value of N degrees of freedom\n",
    "    N = len(meas)\n",
    "    assert(len(pred) == N)\n",
    "    assert(len(sig) == N)\n",
    "    Ndof = N - Nconstr\n",
    "    ## loop over bins, accumulate sums\n",
    "    chi2 = 0.0\n",
    "    for i in range(N):\n",
    "        ## don't count bins with sigma = 0 (this is an approximation)\n",
    "        if (sig[i] == 0.0):\n",
    "            Ndof -= 1\n",
    "        ## non-zero data and prediction, add to sum\n",
    "        else:\n",
    "            chi2 += (meas[i] - pred[i]) * (meas[i] - pred[i]) / (sig[i] * sig[i])\n",
    "    return (chi2, Ndof)"
   ]
  },
  {
   "cell_type": "code",
   "execution_count": 9,
   "metadata": {},
   "outputs": [],
   "source": [
    "def pyLinReg(x, y, sig):\n",
    "    ''' Based on cpLinReg() in cpStatistics.cpp given by H. Evans. '''\n",
    "    N = len(x)\n",
    "    assert(len(y) == N)\n",
    "\n",
    "    ## Accumulate Sums\n",
    "    S = 0.0\n",
    "    Sx = 0.0\n",
    "    Sy = 0.0\n",
    "    for i in range(N):\n",
    "        w = 1.0 / (sig[i] * sig[i])\n",
    "        S += w\n",
    "        Sx += x[i] * w\n",
    "        Sy += y[i] * w\n",
    "    SxoS = Sx / S\n",
    "    Stt = 0.0\n",
    "    b = 0.0\n",
    "    for i in range(N):\n",
    "        t = (x[i] - SxoS) / sig[i]\n",
    "        Stt += t * t\n",
    "        b += t * y[i] / sig[i]\n",
    "\n",
    "    ## Best fit parameters\n",
    "    b = b / Stt\n",
    "    a = (Sy - Sx * b) / S\n",
    "\n",
    "    ## covariance matrix\n",
    "    V00 = (1.0 + Sx * Sx / (S * Stt)) / S\n",
    "    V01 = -Sx / (S * Stt)\n",
    "    V11 = 1.0 / Stt\n",
    "    V = np.array([ [V00, V01], [V01, V11] ])\n",
    "\n",
    "    ## Calculate chi^2\n",
    "    f = []\n",
    "    for i in range(N):\n",
    "        f.append(a + b * x[i])\n",
    "    (chi2, Ndof) = pyChi2(y, f, sig, 2)      # chi^2 w/ 2 constraints\n",
    "\n",
    "    return (a, b, V, chi2, Ndof)"
   ]
  },
  {
   "cell_type": "code",
   "execution_count": 10,
   "metadata": {},
   "outputs": [
    {
     "name": "stdout",
     "output_type": "stream",
     "text": [
      " a is 1.0355808913976259,\n",
      " b is 0.43553868097077436,\n",
      " with a covariance matrix of: \n",
      "[[ 0.00547642 -0.00793013]\n",
      " [-0.00793013  0.01330541]],\n",
      " a Chi Squared of 6.0554793477567,\n",
      " and 8 degrees of freedom,\n",
      " and a p-Chi Squared of 0.358982693447835.\n"
     ]
    },
    {
     "data": {
      "image/png": "[encoded data removed]",
      "text/plain": [
       "<Figure size 432x288 with 1 Axes>"
      ]
     },
     "metadata": {},
     "output_type": "display_data"
    }
   ],
   "source": [
    "a, b, V, chi2, Ndof = pyLinReg(x, y, [sd] * len(y))\n",
    "Pchi2 = stats.chi2.cdf(chi2, Ndof)\n",
    "print(\" a is {},\\n b is {},\\n with a covariance matrix of: \\n{},\\n a Chi Squared of {},\\n and {} degrees of freedom,\\n and a p-Chi Squared of {}.\".format(a, b, V, chi2, Ndof, Pchi2)) \n",
    "plt.plot(x, fx, 'g-', label=\"Model\")\n",
    "plt.plot(x, [(a + b * xi) for xi in x] , 'b-')\n",
    "plt.errorbar(x, y, yerr=sd, fmt='ro')\n",
    "plt.show()"
   ]
  },
  {
   "cell_type": "markdown",
   "metadata": {},
   "source": [
    "### c)\n",
    "Now simulate 1,000 more experiments and fit to each of them to extract 1,000 new estimates of a, b.\n",
    "* Histogram the fitted values of a and b that you get.  Are the means and widths of these histograms consistent with the true parameter values and the fit uncertainty you obtained in part b.\n",
    "* Produce a scatter plot of bi−btrue vs ai−atrue.  Superimpose the boundary of the 68.3% confidence region you would expect from your fit to experiment 0 if the errors on yi were Gaussian with σi= 0.3/√12.  What fraction of the fits fall within this confidence region?"
   ]
  },
  {
   "cell_type": "code",
   "execution_count": 11,
   "metadata": {},
   "outputs": [],
   "source": [
    "for i in range(1000):\n",
    "    x, y, fx, err = experiment(min_dy, max_dy)\n",
    "    a, b, V, chi2, Ndof = pyLinReg(x, y, [sd] * len(y))\n",
    "    # TODO: gather a and b values into lists to make histogram here, etc..."
   ]
  },
  {
   "cell_type": "markdown",
   "metadata": {},
   "source": [
    "### d)\n",
    "Repeat the fits to your 1,000 experiments using i= 0.15. (This is another common way of dealing with uniform uncertainty regions.)  What fraction of fits fall within the Gaussian 68.3% confidence region in this case?"
   ]
  },
  {
   "cell_type": "code",
   "execution_count": null,
   "metadata": {},
   "outputs": [],
   "source": []
  }
 ],
 "metadata": {
  "kernelspec": {
   "display_name": "Python 3",
   "language": "python",
   "name": "python3"
  },
  "language_info": {
   "codemirror_mode": {
    "name": "ipython",
    "version": 3
   },
   "file_extension": ".py",
   "mimetype": "text/x-python",
   "name": "python",
   "nbconvert_exporter": "python",
   "pygments_lexer": "ipython3",
   "version": "3.6.5"
  }
 },
 "nbformat": 4,
 "nbformat_minor": 2
}
