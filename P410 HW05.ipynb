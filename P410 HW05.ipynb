{
 "cells": [
  {
   "cell_type": "code",
   "execution_count": 1,
   "metadata": {},
   "outputs": [],
   "source": [
    "%matplotlib inline\n",
    "\n",
    "import numpy as np\n",
    "import matplotlib.pyplot as plt"
   ]
  },
  {
   "cell_type": "markdown",
   "metadata": {},
   "source": [
    "## Problem 1"
   ]
  },
  {
   "cell_type": "markdown",
   "metadata": {},
   "source": [
    "In this problem we will explore the effects of correlations between data points on weighted averaging. Let’s assume we have four measurements of the cross-section for the production of top quarks at the Fermilab Tevatron collider in four different decay channels, each involving a single electron or a muon and 3 or 4 jets. (Don’t worry if this is all gibberish to you - the important thing is that we have four measurements, supposedly of the same true quantity.)\n",
    "\n",
    "$$p\\overline{p}X \\rightarrow \\frac{e}{\\mu}+ \\frac{3}{4} \\text{ jets}$$\n",
    "\n",
    "For each measurement, there are four potential sources of uncertainty, as shown below:\n",
    "\n",
    "| Channel       | Measured| Stat  | e-ID  | μ-ID  | Lumi |\n",
    "|---------------|---------|-------|-------|-------|------|\n",
    "| e + 3-jets    | 7.91    | 0.99  | 0.24  |   -   | 0.59 |\n",
    "| e + 4-jets    | 6.82    | 0.76  | 0.18  |   -   | 0.45 |\n",
    "| μ + 3-jets    | 7.69    | 1.06  |   -   | 0.40  | 0.63 |\n",
    "| μ + 4-jets    | 9.00    | 0.98  |   -   | 0.37  | 0.59 |\n",
    "\n",
    "where\n",
    "\n",
    "**Meas**: the measured cross-section in pico-barns\n",
    "\n",
    "**Stat**: the statistical and other uncorrelated errors on the measurement\n",
    "* uncorrelated for all measurements\n",
    "\n",
    "**e/μ-ID**: the  uncertainty  due  to  estimating  the  efficiency  for  identifying  electrons  (e)  or muons (μ)\n",
    "* the e-ID uncertainties are +100% correlated between the e +n-jets channels\n",
    "* the μ-ID uncertainties are +100% correlated between the μ +n-jets channels\n",
    "\n",
    "**Lumi**: the uncertainty due to estimating the luminosity used in the measurement\n",
    "* +100% correlated for all measurements  \n",
    "    \n",
    "Your job is to write code to calculate the weighted average of these measurements, taking into account the correlations. Use this code to answer the following questions."
   ]
  },
  {
   "cell_type": "markdown",
   "metadata": {},
   "source": [
    "### a) \n",
    "What is the weighted average and uncertainty of the measurements if correlations are ignored?"
   ]
  },
  {
   "cell_type": "code",
   "execution_count": null,
   "metadata": {},
   "outputs": [],
   "source": [
    "def w_ave_uncorr(measurements, errors):\n",
    "    '''\n",
    "    @param measurements: an array of all the measurements\n",
    "    @param errors: an array of the errors\n",
    "    @return the weighted average and uncertantity\n",
    "    '''"
   ]
  },
  {
   "cell_type": "markdown",
   "metadata": {},
   "source": [
    "### b)\n",
    "What is the covariance matrix for the measurements including the correlations described above?"
   ]
  },
  {
   "cell_type": "markdown",
   "metadata": {},
   "source": [
    "### c)\n",
    "Using that covariance matrix, calculate the weigthed average and uncertainty of the measurements taking correlations properly into account."
   ]
  },
  {
   "cell_type": "markdown",
   "metadata": {},
   "source": [
    "### d)\n",
    "What is the χ2 and χ2 probability for uncorrelated and correlated averages? Are these results likely to be consistent?"
   ]
  },
  {
   "cell_type": "markdown",
   "metadata": {},
   "source": [
    "## Problem 2"
   ]
  },
  {
   "cell_type": "markdown",
   "metadata": {},
   "source": [
    "In this problem we will explore the effects of non-Gaussian errors on the relationship between confidence regions and the fit covariance matrix. Use the example we did in class of data drawn from a linear model with:\n",
    "\n",
    "$$ x \\in [0,1]$$\n",
    "$$f(x) = ax+b \\text{  (measurements, y, drawn from this model)}$$\n",
    "$$a = 1$$\n",
    "$$b=0.5$$\n",
    "$$N=10 \\text{ measurments / experiment}$$\n",
    "$$M=101 \\text{  experiments}$$\n",
    "\n",
    "But, for this problem, assume that the measurements, yi, take values that are uniformly (rather than normally) distributed about their true values, f(x) =a+bx. Use:\n",
    "\n",
    "$$ y_i = -f(x_i)\\in[-0.15, +0.15] \\text{  (uniformly)}$$\n",
    "\n",
    "Please do the following:"
   ]
  },
  {
   "cell_type": "markdown",
   "metadata": {},
   "source": [
    "### a)\n",
    "Simulate one experiment using the parameters above (with yi drawn uniformly from the region[−0.15,+0.15]about the true value f(xi).  Make a plot of yi vs xi, including errors on yi from the standard deviation of a uniform distribution(width/√12)."
   ]
  },
  {
   "cell_type": "markdown",
   "metadata": {},
   "source": [
    "### b)\n",
    "Now perform a χ2 fit to the data that you produced in part a.  Simultaneously extract best-fit values for a, b, and their covariance matrix.  In your χ2, use errors on the yi’s as in part a. (0.3/√12) as is often assumed in these situations. What are the paramter values and covariance matrix that your fit returns and what is the χ2 and probability of the fit?  Do your fit results agree with the values input to your simulation?"
   ]
  },
  {
   "cell_type": "markdown",
   "metadata": {},
   "source": [
    "### c)\n",
    "Now simulate 1,000 more experiments and fit to each of them to extract 1,000 new estimates of a, b.\n",
    "* Histogram the fitted values of a and b that you get.  Are the means and widths of these histograms consistent with the true parameter values and the fit uncertainty you obtained in part b.\n",
    "* Produce a scatter plot of bi−btrue vs ai−atrue.  Superimpose the boundary of the 68.3% confidence region you would expect from your fit to experiment 0 if the errors on yi were Gaussian with σi= 0.3/√12.  What fraction of the fits fall within this confidence region?"
   ]
  },
  {
   "cell_type": "markdown",
   "metadata": {},
   "source": [
    "### d)\n",
    "Repeat the fits to your 1,000 experiments using i= 0.15. (This is another common way of dealing with uniform uncertainty regions.)  What fraction of fits fall within the Gaussian 68.3% confidence region in this case?"
   ]
  },
  {
   "cell_type": "code",
   "execution_count": null,
   "metadata": {},
   "outputs": [],
   "source": []
  }
 ],
 "metadata": {
  "kernelspec": {
   "display_name": "Python 3",
   "language": "python",
   "name": "python3"
  },
  "language_info": {
   "codemirror_mode": {
    "name": "ipython",
    "version": 3
   },
   "file_extension": ".py",
   "mimetype": "text/x-python",
   "name": "python",
   "nbconvert_exporter": "python",
   "pygments_lexer": "ipython3",
   "version": "3.6.5"
  }
 },
 "nbformat": 4,
 "nbformat_minor": 2
}
